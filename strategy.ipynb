{
 "cells": [
  {
   "cell_type": "markdown",
   "metadata": {},
   "source": [
    "# Empty"
   ]
  },
  {
   "cell_type": "markdown",
   "metadata": {},
   "source": [
    "Empty template for your purpose."
   ]
  },
  {
   "cell_type": "code",
   "execution_count": 1,
   "metadata": {},
   "outputs": [
    {
     "data": {
      "text/html": [
       "<script type=\"text/javascript\">window.PlotlyConfig = {MathJaxConfig: 'local'};</script><script type=\"text/javascript\">if (window.MathJax) {MathJax.Hub.Config({SVG: {font: \"STIX-Web\"}});}</script><script>requirejs.config({paths: { 'plotly': ['https://cdn.plot.ly/plotly-latest.min']},});if(!window._Plotly) {require(['plotly'],function(plotly) {window._Plotly=plotly;});}</script>"
      ],
      "text/vnd.plotly.v1+html": [
       "<script type=\"text/javascript\">window.PlotlyConfig = {MathJaxConfig: 'local'};</script><script type=\"text/javascript\">if (window.MathJax) {MathJax.Hub.Config({SVG: {font: \"STIX-Web\"}});}</script><script>requirejs.config({paths: { 'plotly': ['https://cdn.plot.ly/plotly-latest.min']},});if(!window._Plotly) {require(['plotly'],function(plotly) {window._Plotly=plotly;});}</script>"
      ]
     },
     "metadata": {},
     "output_type": "display_data"
    }
   ],
   "source": [
    "import xarray as xr\n",
    "import numpy as np\n",
    "import pandas as pd\n",
    "import random\n",
    "\n",
    "from qnt.data import ds, load_assets, load_data, write_output, restore_origin_data\n",
    "from qnt.stepper import test_strategy\n",
    "from qnt.stats import calc_stat\n",
    "from qnt.graph import make_plot, make_plot_double, make_plot_filled"
   ]
  },
  {
   "cell_type": "code",
   "execution_count": 2,
   "metadata": {
    "scrolled": true
   },
   "outputs": [
    {
     "data": {
      "text/plain": [
       "100"
      ]
     },
     "execution_count": 2,
     "metadata": {},
     "output_type": "execute_result"
    }
   ],
   "source": [
    "assets = load_assets()\n",
    "ids = [a['id'] for a in assets]\n",
    "ids = ids[-100:]\n",
    "len(ids)"
   ]
  },
  {
   "cell_type": "code",
   "execution_count": 3,
   "metadata": {
    "scrolled": false
   },
   "outputs": [
    {
     "name": "stdout",
     "output_type": "stream",
     "text": [
      "fetched chunk 2010-09-04 -> 2018-11-20 6s\n",
      "fetched chunk 2010-01-01 -> 2010-09-03 7s\n",
      "Data loaded 7s\n"
     ]
    }
   ],
   "source": [
    "data = load_data(min_date=\"2010-01-01\", max_date=None, dims=('time', 'field', 'asset'), assets=ids)"
   ]
  },
  {
   "cell_type": "code",
   "execution_count": 4,
   "metadata": {},
   "outputs": [],
   "source": [
    "def step(data):\n",
    "    assets = data.sel(field='open').isel(time=0).dropna('asset').coords['asset']\n",
    "    pct = 1./len(assets)\n",
    "    return xr.DataArray(\n",
    "        np.full([len(assets)], pct, dtype = np.float64),\n",
    "        dims = [ds.ASSET],\n",
    "        coords = {ds.ASSET:assets}\n",
    "    )"
   ]
  },
  {
   "cell_type": "code",
   "execution_count": 5,
   "metadata": {},
   "outputs": [
    {
     "name": "stdout",
     "output_type": "stream",
     "text": [
      "Testing started...\n",
      "Testing progress: 1578/2208 5s\n",
      "Testing complete 7.258277893066406s\n"
     ]
    }
   ],
   "source": [
    "output = test_strategy(data, step=step, init_data_length=30)"
   ]
  },
  {
   "cell_type": "code",
   "execution_count": 6,
   "metadata": {},
   "outputs": [
    {
     "data": {
      "text/html": [
       "<div>\n",
       "<style scoped>\n",
       "    .dataframe tbody tr th:only-of-type {\n",
       "        vertical-align: middle;\n",
       "    }\n",
       "\n",
       "    .dataframe tbody tr th {\n",
       "        vertical-align: top;\n",
       "    }\n",
       "\n",
       "    .dataframe thead th {\n",
       "        text-align: right;\n",
       "    }\n",
       "</style>\n",
       "<table border=\"1\" class=\"dataframe\">\n",
       "  <thead>\n",
       "    <tr style=\"text-align: right;\">\n",
       "      <th>field</th>\n",
       "      <th>equity</th>\n",
       "      <th>relative_return</th>\n",
       "      <th>volatility</th>\n",
       "      <th>underwater</th>\n",
       "      <th>max_drawdown</th>\n",
       "      <th>sharpe_ratio</th>\n",
       "      <th>mean_return</th>\n",
       "      <th>bias</th>\n",
       "      <th>instruments</th>\n",
       "    </tr>\n",
       "    <tr>\n",
       "      <th>time</th>\n",
       "      <th></th>\n",
       "      <th></th>\n",
       "      <th></th>\n",
       "      <th></th>\n",
       "      <th></th>\n",
       "      <th></th>\n",
       "      <th></th>\n",
       "      <th></th>\n",
       "      <th></th>\n",
       "    </tr>\n",
       "  </thead>\n",
       "  <tbody>\n",
       "    <tr>\n",
       "      <th>2018-11-14</th>\n",
       "      <td>3.059284</td>\n",
       "      <td>-0.002983</td>\n",
       "      <td>0.120407</td>\n",
       "      <td>-0.111316</td>\n",
       "      <td>0.290508</td>\n",
       "      <td>0.219476</td>\n",
       "      <td>0.019333</td>\n",
       "      <td>1.0</td>\n",
       "      <td>99.0</td>\n",
       "    </tr>\n",
       "    <tr>\n",
       "      <th>2018-11-15</th>\n",
       "      <td>3.073298</td>\n",
       "      <td>0.004581</td>\n",
       "      <td>0.120332</td>\n",
       "      <td>-0.107245</td>\n",
       "      <td>0.290508</td>\n",
       "      <td>0.307817</td>\n",
       "      <td>0.030218</td>\n",
       "      <td>1.0</td>\n",
       "      <td>99.0</td>\n",
       "    </tr>\n",
       "    <tr>\n",
       "      <th>2018-11-16</th>\n",
       "      <td>3.067539</td>\n",
       "      <td>-0.001874</td>\n",
       "      <td>0.120054</td>\n",
       "      <td>-0.108918</td>\n",
       "      <td>0.290508</td>\n",
       "      <td>0.221815</td>\n",
       "      <td>0.019584</td>\n",
       "      <td>1.0</td>\n",
       "      <td>99.0</td>\n",
       "    </tr>\n",
       "    <tr>\n",
       "      <th>2018-11-19</th>\n",
       "      <td>3.029309</td>\n",
       "      <td>-0.012463</td>\n",
       "      <td>0.120707</td>\n",
       "      <td>-0.120023</td>\n",
       "      <td>0.290508</td>\n",
       "      <td>0.113263</td>\n",
       "      <td>0.006378</td>\n",
       "      <td>1.0</td>\n",
       "      <td>99.0</td>\n",
       "    </tr>\n",
       "    <tr>\n",
       "      <th>2018-11-20</th>\n",
       "      <td>2.992988</td>\n",
       "      <td>-0.011990</td>\n",
       "      <td>0.121198</td>\n",
       "      <td>-0.130574</td>\n",
       "      <td>0.290508</td>\n",
       "      <td>-0.027824</td>\n",
       "      <td>-0.010688</td>\n",
       "      <td>1.0</td>\n",
       "      <td>75.0</td>\n",
       "    </tr>\n",
       "  </tbody>\n",
       "</table>\n",
       "</div>"
      ],
      "text/plain": [
       "field         equity  relative_return  volatility  underwater  max_drawdown  \\\n",
       "time                                                                          \n",
       "2018-11-14  3.059284        -0.002983    0.120407   -0.111316      0.290508   \n",
       "2018-11-15  3.073298         0.004581    0.120332   -0.107245      0.290508   \n",
       "2018-11-16  3.067539        -0.001874    0.120054   -0.108918      0.290508   \n",
       "2018-11-19  3.029309        -0.012463    0.120707   -0.120023      0.290508   \n",
       "2018-11-20  2.992988        -0.011990    0.121198   -0.130574      0.290508   \n",
       "\n",
       "field       sharpe_ratio  mean_return  bias  instruments  \n",
       "time                                                      \n",
       "2018-11-14      0.219476     0.019333   1.0         99.0  \n",
       "2018-11-15      0.307817     0.030218   1.0         99.0  \n",
       "2018-11-16      0.221815     0.019584   1.0         99.0  \n",
       "2018-11-19      0.113263     0.006378   1.0         99.0  \n",
       "2018-11-20     -0.027824    -0.010688   1.0         75.0  "
      ]
     },
     "execution_count": 6,
     "metadata": {},
     "output_type": "execute_result"
    }
   ],
   "source": [
    "stat = calc_stat(data, output)\n",
    "stat.to_pandas().tail()"
   ]
  },
  {
   "cell_type": "code",
   "execution_count": 7,
   "metadata": {},
   "outputs": [
    {
     "name": "stdout",
     "output_type": "stream",
     "text": [
      "write output: /home/username/fractions.nc.gz\n"
     ]
    }
   ],
   "source": [
    "write_output(output)"
   ]
  },
  {
   "cell_type": "code",
   "execution_count": null,
   "metadata": {},
   "outputs": [],
   "source": []
  }
 ],
 "metadata": {
  "kernelspec": {
   "display_name": "Python 3",
   "language": "python",
   "name": "python3"
  },
  "language_info": {
   "codemirror_mode": {
    "name": "ipython",
    "version": 3
   },
   "file_extension": ".py",
   "mimetype": "text/x-python",
   "name": "python",
   "nbconvert_exporter": "python",
   "pygments_lexer": "ipython3",
   "version": "3.7.0"
  }
 },
 "nbformat": 4,
 "nbformat_minor": 2
}
