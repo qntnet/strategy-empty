{
 "cells": [
  {
   "cell_type": "markdown",
   "metadata": {},
   "source": [
    "# A Blank Template for Developing"
   ]
  },
  {
   "cell_type": "code",
   "execution_count": null,
   "metadata": {},
   "outputs": [],
   "source": [
    "import xarray as xr\n",
    "import numpy as np\n",
    "import pandas as pd\n",
    "\n",
    "import qnt.data    as qndata\n",
    "import qnt.stepper as qnstepper\n",
    "import qnt.stats   as qnstats\n",
    "import qnt.graph   as qngraph\n",
    "import qnt.forward_looking as qnfl"
   ]
  },
  {
   "cell_type": "code",
   "execution_count": null,
   "metadata": {},
   "outputs": [],
   "source": [
    "def strategy():\n",
    "    data = qndata.load_data(min_date = \"2015-01-01\",\n",
    "                        max_date = None,\n",
    "                        dims     = (\"time\", \"field\", \"asset\"),\n",
    "                        forward_order = True)\n",
    "    is_liquid = data.loc[:, \"is_liquid\", :]\n",
    "    weights   = is_liquid / is_liquid.sum(\"asset\",skipna=True)\n",
    "    weights   = weights.fillna(0.0)\n",
    "    return weights"
   ]
  },
  {
   "cell_type": "code",
   "execution_count": null,
   "metadata": {},
   "outputs": [],
   "source": [
    "output = qnfl.load_data_calc_output_and_check_forward_looking(strategy)"
   ]
  },
  {
   "cell_type": "code",
   "execution_count": null,
   "metadata": {},
   "outputs": [],
   "source": [
    "data = qndata.load_data(min_date = \"2015-01-01\",\n",
    "                        max_date = None,\n",
    "                        dims     = (\"time\", \"field\", \"asset\"),\n",
    "                        forward_order = True)"
   ]
  },
  {
   "cell_type": "code",
   "execution_count": null,
   "metadata": {},
   "outputs": [],
   "source": [
    "stat = qnstats.calc_stat(data, output, slippage_factor=0.05)\n",
    "display(stat.to_pandas().tail())"
   ]
  },
  {
   "cell_type": "code",
   "execution_count": null,
   "metadata": {},
   "outputs": [],
   "source": [
    "qnstats.print_correlation(output, data)"
   ]
  },
  {
   "cell_type": "code",
   "execution_count": null,
   "metadata": {},
   "outputs": [],
   "source": [
    "qnstepper.write_output(output)"
   ]
  }
 ],
 "metadata": {
  "kernelspec": {
   "display_name": "Python 3",
   "language": "python",
   "name": "python3"
  },
  "language_info": {
   "codemirror_mode": {
    "name": "ipython",
    "version": 3
   },
   "file_extension": ".py",
   "mimetype": "text/x-python",
   "name": "python",
   "nbconvert_exporter": "python",
   "pygments_lexer": "ipython3",
   "version": "3.7.3"
  }
 },
 "nbformat": 4,
 "nbformat_minor": 2
}
